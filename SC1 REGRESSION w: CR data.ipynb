{
 "cells": [
  {
   "cell_type": "markdown",
   "metadata": {},
   "source": [
    "# MACHINE LEARNING FOR FINANCIAL SERVICES \n",
    "\n",
    "Welcome to IBM's Data Science Experience! This exciting tool will help your life a lot easier as a data scientist.  Below is a simple introductory example of how easy for you to load your data and run some simple regression models."
   ]
  },
  {
   "cell_type": "markdown",
   "metadata": {},
   "source": [
    "## Simple Linear Regression & Supervised Learning for Logistic Regression\n",
    "\n",
    "Regression mode is a quite popular statistical modeling technique as it is intuitive to understand its concept by showing relationship between attributes. There are two major types of regression models: linear and logistic regressions.  Linear regression is designed to show linear relationship between independent and dependent variables, while logistic regression is designed for categorical dependent variable. Logistic regression, despite its name, is a linear model for classification rather than regression.  In spite of its simple concept, the relationship should be carefully considered as it does not necessarily show causality, but rather correlation."
   ]
  },
  {
   "cell_type": "markdown",
   "metadata": {},
   "source": [
    "### Scikit Learn\n",
    "\n",
    ">Scikit-learn (formerly scikits.learn) is a free software machine learning library for the Python programming language. It features various classification, regression and clustering algorithms including support vector machines, random forests, gradient boosting, k-means and DBSCAN, and is designed to interoperate with the Python numerical and scientific libraries NumPy and SciPy.  It also includes a few rudimentary deep learning packages as well.  I plan to utilize Scikit Learn library for many of my illustrative examples as it is well-documented and well-used in Python community."
   ]
  },
  {
   "cell_type": "markdown",
   "metadata": {},
   "source": [
    "## To load the data:\n",
    "\n",
    "1. Load your local file into your notebook. Click the **Find and Add Data** icon on the notebook action bar. Drop the file into the box or browse to select the file. The file is loaded to your object storage and appears in the Data Assets section of the project. For more information, see <a href=\"https://datascience.ibm.com/docs/content/analyze-data/load-and-access-data.html\" target=\"_blank\" rel=\"noopener noreferrer\">Load and access data</a>.\n",
    "1. click in the next code cell and select **Insert to code > pandas DataFrame** under the file name."
   ]
  },
  {
   "cell_type": "code",
   "execution_count": 26,
   "metadata": {},
   "outputs": [
    {
     "data": {
      "text/html": [
       "<div>\n",
       "<table border=\"1\" class=\"dataframe\">\n",
       "  <thead>\n",
       "    <tr style=\"text-align: right;\">\n",
       "      <th></th>\n",
       "      <th>﻿ACCT_NO</th>\n",
       "      <th>CURR_BAL</th>\n",
       "      <th>TENURE</th>\n",
       "      <th>CUST_INC</th>\n",
       "      <th>CUST_AGE</th>\n",
       "      <th>PMT_DUE</th>\n",
       "      <th>NO_DM_CNT</th>\n",
       "      <th>WRITE_OFF_IND</th>\n",
       "      <th>FICO_SCR</th>\n",
       "    </tr>\n",
       "  </thead>\n",
       "  <tbody>\n",
       "    <tr>\n",
       "      <th>count</th>\n",
       "      <td>610.000000</td>\n",
       "      <td>610.000000</td>\n",
       "      <td>610.000000</td>\n",
       "      <td>610.000000</td>\n",
       "      <td>610.000000</td>\n",
       "      <td>610.000000</td>\n",
       "      <td>610.000000</td>\n",
       "      <td>610.000000</td>\n",
       "      <td>610.000000</td>\n",
       "    </tr>\n",
       "    <tr>\n",
       "      <th>mean</th>\n",
       "      <td>1595.500000</td>\n",
       "      <td>1804.107770</td>\n",
       "      <td>6.432459</td>\n",
       "      <td>83260.531148</td>\n",
       "      <td>40.132787</td>\n",
       "      <td>99.196262</td>\n",
       "      <td>9.870492</td>\n",
       "      <td>0.150820</td>\n",
       "      <td>701.326230</td>\n",
       "    </tr>\n",
       "    <tr>\n",
       "      <th>std</th>\n",
       "      <td>176.236111</td>\n",
       "      <td>2905.286132</td>\n",
       "      <td>4.634506</td>\n",
       "      <td>42206.490438</td>\n",
       "      <td>11.691593</td>\n",
       "      <td>142.255957</td>\n",
       "      <td>6.714781</td>\n",
       "      <td>0.358167</td>\n",
       "      <td>85.151137</td>\n",
       "    </tr>\n",
       "    <tr>\n",
       "      <th>min</th>\n",
       "      <td>1291.000000</td>\n",
       "      <td>-25.000000</td>\n",
       "      <td>0.100000</td>\n",
       "      <td>25089.000000</td>\n",
       "      <td>19.000000</td>\n",
       "      <td>0.000000</td>\n",
       "      <td>1.000000</td>\n",
       "      <td>0.000000</td>\n",
       "      <td>551.000000</td>\n",
       "    </tr>\n",
       "    <tr>\n",
       "      <th>25%</th>\n",
       "      <td>1443.250000</td>\n",
       "      <td>331.752500</td>\n",
       "      <td>2.800000</td>\n",
       "      <td>54015.500000</td>\n",
       "      <td>31.000000</td>\n",
       "      <td>22.662500</td>\n",
       "      <td>4.000000</td>\n",
       "      <td>0.000000</td>\n",
       "      <td>625.000000</td>\n",
       "    </tr>\n",
       "    <tr>\n",
       "      <th>50%</th>\n",
       "      <td>1595.500000</td>\n",
       "      <td>680.625000</td>\n",
       "      <td>5.900000</td>\n",
       "      <td>73585.500000</td>\n",
       "      <td>40.000000</td>\n",
       "      <td>46.400000</td>\n",
       "      <td>7.000000</td>\n",
       "      <td>0.000000</td>\n",
       "      <td>693.500000</td>\n",
       "    </tr>\n",
       "    <tr>\n",
       "      <th>75%</th>\n",
       "      <td>1747.750000</td>\n",
       "      <td>1049.462500</td>\n",
       "      <td>8.900000</td>\n",
       "      <td>94804.250000</td>\n",
       "      <td>49.000000</td>\n",
       "      <td>78.462500</td>\n",
       "      <td>15.000000</td>\n",
       "      <td>0.000000</td>\n",
       "      <td>780.000000</td>\n",
       "    </tr>\n",
       "    <tr>\n",
       "      <th>max</th>\n",
       "      <td>1900.000000</td>\n",
       "      <td>11996.610000</td>\n",
       "      <td>22.000000</td>\n",
       "      <td>217338.000000</td>\n",
       "      <td>69.000000</td>\n",
       "      <td>599.830000</td>\n",
       "      <td>26.000000</td>\n",
       "      <td>1.000000</td>\n",
       "      <td>849.000000</td>\n",
       "    </tr>\n",
       "  </tbody>\n",
       "</table>\n",
       "</div>"
      ],
      "text/plain": [
       "          ﻿ACCT_NO      CURR_BAL      TENURE       CUST_INC    CUST_AGE  \\\n",
       "count   610.000000    610.000000  610.000000     610.000000  610.000000   \n",
       "mean   1595.500000   1804.107770    6.432459   83260.531148   40.132787   \n",
       "std     176.236111   2905.286132    4.634506   42206.490438   11.691593   \n",
       "min    1291.000000    -25.000000    0.100000   25089.000000   19.000000   \n",
       "25%    1443.250000    331.752500    2.800000   54015.500000   31.000000   \n",
       "50%    1595.500000    680.625000    5.900000   73585.500000   40.000000   \n",
       "75%    1747.750000   1049.462500    8.900000   94804.250000   49.000000   \n",
       "max    1900.000000  11996.610000   22.000000  217338.000000   69.000000   \n",
       "\n",
       "          PMT_DUE   NO_DM_CNT  WRITE_OFF_IND    FICO_SCR  \n",
       "count  610.000000  610.000000     610.000000  610.000000  \n",
       "mean    99.196262    9.870492       0.150820  701.326230  \n",
       "std    142.255957    6.714781       0.358167   85.151137  \n",
       "min      0.000000    1.000000       0.000000  551.000000  \n",
       "25%     22.662500    4.000000       0.000000  625.000000  \n",
       "50%     46.400000    7.000000       0.000000  693.500000  \n",
       "75%     78.462500   15.000000       0.000000  780.000000  \n",
       "max    599.830000   26.000000       1.000000  849.000000  "
      ]
     },
     "execution_count": 26,
     "metadata": {},
     "output_type": "execute_result"
    }
   ],
   "source": [
    "from io import StringIO\n",
    "import requests\n",
    "import json\n",
    "import pandas as pd\n",
    "\n",
    "# @hidden_cell\n",
    "# This function accesses a file in your Object Storage. The definition contains your credentials.\n",
    "# You might want to remove those credentials before you share your notebook.\n",
    "def get_object_storage_file_with_credentials_fcf1c90868844bc1ab7d4fffe6063140(container, filename):\n",
    "    \"\"\"This functions returns a StringIO object containing\n",
    "    the file content from Bluemix Object Storage.\"\"\"\n",
    "\n",
    "    url1 = ''.join(['https://identity.open.softlayer.com', '/v3/auth/tokens'])\n",
    "    data = {'auth': {'identity': {'methods': ['password'],\n",
    "            'password': {'user': {'name': 'member_4a6fd2c26617760f817f90c4ebbaee820653e676','domain': {'id': 'xxxx Your ID xxxx'},\n",
    "            'password': 'xxxx Your Passwordxxx'}}}}}\n",
    "    headers1 = {'Content-Type': 'application/json'}\n",
    "    resp1 = requests.post(url=url1, data=json.dumps(data), headers=headers1)\n",
    "    resp1_body = resp1.json()\n",
    "    for e1 in resp1_body['token']['catalog']:\n",
    "        if(e1['type']=='object-store'):\n",
    "            for e2 in e1['endpoints']:\n",
    "                        if(e2['interface']=='public'and e2['region']=='dallas'):\n",
    "                            url2 = ''.join([e2['url'],'/', container, '/', filename])\n",
    "    s_subject_token = resp1.headers['x-subject-token']\n",
    "    headers2 = {'X-Auth-Token': s_subject_token, 'accept': 'application/json'}\n",
    "    resp2 = requests.get(url=url2, headers=headers2)\n",
    "    return StringIO(resp2.text)\n",
    "\n",
    "df = pd.read_csv(get_object_storage_file_with_credentials_fcf1c90868844bc1ab7d4fffe6063140('MLshowcase', 'CRPMT_SAMPLE.csv'))\n",
    "df.describe()"
   ]
  },
  {
   "cell_type": "markdown",
   "metadata": {},
   "source": [
    "## Attributes in the sample file \n",
    "\n",
    "> this is a hypothetical sample file from a credit card company, in which a few attributes are mocked up for the various aspects of credit/payment business such as risk management, contact strategy and CRM\n",
    "\n",
    "1. ACCT_NO: Account Number\n",
    "1. PROD: Product Tier (1.REG: regular, 2.GOLD: gold and 3.PLAT: platinum cards)\n",
    "1. CURR_BAL: Current balance on the account\n",
    "1. TENURE: # of years since the account opened\n",
    "1. CUST_AGE: Customer's age in years\n",
    "1. PMT_DUE: Due amount on current billing cycle\n",
    "1. NO_DM_CNT: # of Direct Mail Contacts for the last 2 years\n",
    "1. WRITE_OFF_IND: Write-Off Indicator (0: Not written-off, 1: Written-Off)\n",
    "1. FICO_SCR: Fair-Issac Score or FICO (a credit score that is being calculated by US credit bureau such as Experian, Equifax or TransUnion)"
   ]
  },
  {
   "cell_type": "markdown",
   "metadata": {},
   "source": [
    "## SIMPLE LINEAR REGRESSION"
   ]
  },
  {
   "cell_type": "markdown",
   "metadata": {},
   "source": [
    "## Are you sending junk mails to your profitable customers?\n",
    "\n",
    "In this section, I'd like to show a very simple linear regression relationship by taking a sample credit card data.  Across different industry sectors where direct customer and prospect marketing is necessary, this became a typical and annoying challenge for many companies and consumers as their marketing contact strategy was specifically concentrated on profitable customer segments.  In this sample credit card data, the higher credit-worthy customers were, the more pieces of direct mails were sent.  This led to \"adverse selection\" (meaning those responded the marketing contacts are usually borderline or marginally valued marketing segments) or to attrition or marketing opt-outs from the highly profitable customers.  "
   ]
  },
  {
   "cell_type": "code",
   "execution_count": 5,
   "metadata": {
    "collapsed": true
   },
   "outputs": [],
   "source": [
    "# create a feature, FICO SCORE, and a response, # OF DIRECT MAIL CONTACTS, vectors\n",
    "\n",
    "X = df.FICO_SCR\n",
    "y = df.NO_DM_CNT\n",
    "\n",
    "\n",
    "# reshape X and y to the single array of the attributes as follows\n",
    "\n",
    "X = X.reshape(-1, 1)\n",
    "y = y.reshape(-1, 1)"
   ]
  },
  {
   "cell_type": "code",
   "execution_count": 6,
   "metadata": {},
   "outputs": [
    {
     "data": {
      "text/plain": [
       "LinearRegression(copy_X=True, fit_intercept=True, n_jobs=1, normalize=False)"
      ]
     },
     "execution_count": 6,
     "metadata": {},
     "output_type": "execute_result"
    }
   ],
   "source": [
    "# running a linear regression model\n",
    "\n",
    "from sklearn.linear_model import LinearRegression\n",
    "\n",
    "linreg = LinearRegression()\n",
    "linreg.fit(X, y)"
   ]
  },
  {
   "cell_type": "code",
   "execution_count": 7,
   "metadata": {},
   "outputs": [
    {
     "name": "stdout",
     "output_type": "stream",
     "text": [
      "[-26.3048179]\n",
      "[[ 0.05158129]]\n"
     ]
    }
   ],
   "source": [
    "# print the intercept and coefficients\n",
    "print(linreg.intercept_)\n",
    "print(linreg.coef_)"
   ]
  },
  {
   "cell_type": "markdown",
   "metadata": {},
   "source": [
    "## Visualizing Linear Regression "
   ]
  },
  {
   "cell_type": "code",
   "execution_count": 8,
   "metadata": {},
   "outputs": [
    {
     "data": {
      "image/png": "[encoded data removed]",
      "text/plain": [
       "<matplotlib.figure.Figure at 0x7f358c900cd0>"
      ]
     },
     "metadata": {},
     "output_type": "display_data"
    }
   ],
   "source": [
    "# import Matplotlib (scientific plotting library)\n",
    "import matplotlib.pyplot as plt\n",
    "\n",
    "# allow plots to appear within the notebook\n",
    "%matplotlib inline\n",
    "\n",
    "# Plot true values versus the predictions\n",
    "plt.scatter(df.FICO_SCR, df.NO_DM_CNT, color=\"b\")\n",
    "plt.xlabel(\"FICO SCORE\")\n",
    "plt.ylabel(\"# of Direct Mail contacts\")\n",
    "plt.show()"
   ]
  },
  {
   "cell_type": "code",
   "execution_count": 9,
   "metadata": {},
   "outputs": [
    {
     "data": {
      "text/plain": [
       "<seaborn.axisgrid.FacetGrid at 0x7f35727c1790>"
      ]
     },
     "execution_count": 9,
     "metadata": {},
     "output_type": "execute_result"
    },
    {
     "data": {
      "image/png": "[encoded data removed]",
      "text/plain": [
       "<matplotlib.figure.Figure at 0x7f35727c18d0>"
      ]
     },
     "metadata": {},
     "output_type": "display_data"
    }
   ],
   "source": [
    "# Quick visualization of data relationships using seaborn visualization API\n",
    "import seaborn as sns\n",
    "sns.set_style('whitegrid')\n",
    "\n",
    "# Using seabron to create a linear fit\n",
    "sns.lmplot('FICO_SCR','NO_DM_CNT', data = df)"
   ]
  },
  {
   "cell_type": "markdown",
   "metadata": {},
   "source": [
    "## CREDIT DEFAULT PREDICTION \n",
    "\n",
    "### LOGSTIC REGRESSION MODEL SETUP, TRAINING & ACCURACY CHECK"
   ]
  },
  {
   "cell_type": "markdown",
   "metadata": {},
   "source": [
    "#### Below is an illustrative example of finding out how write-off response may be correlated with predictor (feature) variables by training a multi-variate logistic regression model"
   ]
  },
  {
   "cell_type": "code",
   "execution_count": 10,
   "metadata": {},
   "outputs": [
    {
     "data": {
      "text/html": [
       "<div>\n",
       "<table border=\"1\" class=\"dataframe\">\n",
       "  <thead>\n",
       "    <tr style=\"text-align: right;\">\n",
       "      <th></th>\n",
       "      <th>﻿ACCT_NO</th>\n",
       "      <th>PROD</th>\n",
       "      <th>CURR_BAL</th>\n",
       "      <th>TENURE</th>\n",
       "      <th>CUST_INC</th>\n",
       "      <th>CUST_AGE</th>\n",
       "      <th>PMT_DUE</th>\n",
       "      <th>NO_DM_CNT</th>\n",
       "      <th>WRITE_OFF_IND</th>\n",
       "      <th>FICO_SCR</th>\n",
       "      <th>PROD_NO</th>\n",
       "    </tr>\n",
       "  </thead>\n",
       "  <tbody>\n",
       "    <tr>\n",
       "      <th>0</th>\n",
       "      <td>1291</td>\n",
       "      <td>1.REG</td>\n",
       "      <td>755.16</td>\n",
       "      <td>3.0</td>\n",
       "      <td>44212</td>\n",
       "      <td>46</td>\n",
       "      <td>60.41</td>\n",
       "      <td>5</td>\n",
       "      <td>1</td>\n",
       "      <td>651</td>\n",
       "      <td>0</td>\n",
       "    </tr>\n",
       "    <tr>\n",
       "      <th>1</th>\n",
       "      <td>1292</td>\n",
       "      <td>1.REG</td>\n",
       "      <td>276.61</td>\n",
       "      <td>0.7</td>\n",
       "      <td>86249</td>\n",
       "      <td>34</td>\n",
       "      <td>22.13</td>\n",
       "      <td>10</td>\n",
       "      <td>0</td>\n",
       "      <td>702</td>\n",
       "      <td>0</td>\n",
       "    </tr>\n",
       "    <tr>\n",
       "      <th>2</th>\n",
       "      <td>1293</td>\n",
       "      <td>2.GOLD</td>\n",
       "      <td>424.70</td>\n",
       "      <td>0.1</td>\n",
       "      <td>79474</td>\n",
       "      <td>45</td>\n",
       "      <td>21.23</td>\n",
       "      <td>22</td>\n",
       "      <td>0</td>\n",
       "      <td>753</td>\n",
       "      <td>1</td>\n",
       "    </tr>\n",
       "    <tr>\n",
       "      <th>3</th>\n",
       "      <td>1294</td>\n",
       "      <td>3.PLAT</td>\n",
       "      <td>11683.23</td>\n",
       "      <td>10.8</td>\n",
       "      <td>81198</td>\n",
       "      <td>58</td>\n",
       "      <td>584.16</td>\n",
       "      <td>22</td>\n",
       "      <td>0</td>\n",
       "      <td>763</td>\n",
       "      <td>2</td>\n",
       "    </tr>\n",
       "    <tr>\n",
       "      <th>4</th>\n",
       "      <td>1295</td>\n",
       "      <td>1.REG</td>\n",
       "      <td>246.34</td>\n",
       "      <td>5.5</td>\n",
       "      <td>63502</td>\n",
       "      <td>35</td>\n",
       "      <td>19.71</td>\n",
       "      <td>11</td>\n",
       "      <td>1</td>\n",
       "      <td>590</td>\n",
       "      <td>0</td>\n",
       "    </tr>\n",
       "  </tbody>\n",
       "</table>\n",
       "</div>"
      ],
      "text/plain": [
       "   ﻿ACCT_NO    PROD  CURR_BAL  TENURE  CUST_INC  CUST_AGE  PMT_DUE  NO_DM_CNT  \\\n",
       "0      1291   1.REG    755.16     3.0     44212        46    60.41          5   \n",
       "1      1292   1.REG    276.61     0.7     86249        34    22.13         10   \n",
       "2      1293  2.GOLD    424.70     0.1     79474        45    21.23         22   \n",
       "3      1294  3.PLAT  11683.23    10.8     81198        58   584.16         22   \n",
       "4      1295   1.REG    246.34     5.5     63502        35    19.71         11   \n",
       "\n",
       "   WRITE_OFF_IND  FICO_SCR  PROD_NO  \n",
       "0              1       651        0  \n",
       "1              0       702        0  \n",
       "2              0       753        1  \n",
       "3              0       763        2  \n",
       "4              1       590        0  "
      ]
     },
     "execution_count": 10,
     "metadata": {},
     "output_type": "execute_result"
    }
   ],
   "source": [
    "# as a regression model needs numerical attributes, let's convert PROD into a numerical format\n",
    "\n",
    "df['PROD_NO'] = df.PROD.map({'1.REG':0, '2.GOLD':1, '3.PLAT':2})\n",
    "df.head(5)"
   ]
  },
  {
   "cell_type": "code",
   "execution_count": 8,
   "metadata": {
    "collapsed": true
   },
   "outputs": [],
   "source": [
    "# or IF YOU'D LIKE TO USE BUILT-IN SCIKIT-LEARN LABEL ENCODER, PLEASE RUN BELOW\n",
    "# converting PROD to numerical (0: 1.REG, 1: 2.GOLD, 2: 3.PLAT)\n",
    "\n",
    "#from sklearn.preprocessing import LabelEncoder\n",
    "\n",
    "#lenc = LabelEncoder()\n",
    "#lenc.fit(df['PROD'])\n",
    "\n",
    "#df['PROD_NO'] = lenc.transform(df['PROD'])\n",
    "\n",
    "#df.head(5)"
   ]
  },
  {
   "cell_type": "code",
   "execution_count": 11,
   "metadata": {
    "collapsed": true
   },
   "outputs": [],
   "source": [
    "# select a few numerical variables (predictors)\n",
    "\n",
    "feature_cols = [          \n",
    "    'CURR_BAL',                                               \n",
    "    'TENURE',                       \n",
    "    'CUST_INC',                      \n",
    "    'CUST_AGE',                                \n",
    "    'PMT_DUE',                                               \n",
    "    'NO_DM_CNT',               \n",
    "    'FICO_SCR',\n",
    "    'PROD_NO'\n",
    "]"
   ]
  },
  {
   "cell_type": "code",
   "execution_count": 12,
   "metadata": {},
   "outputs": [
    {
     "data": {
      "text/plain": [
       "(610, 8)"
      ]
     },
     "execution_count": 12,
     "metadata": {},
     "output_type": "execute_result"
    }
   ],
   "source": [
    "# create a feature matrix 'X' \n",
    "\n",
    "X = df[feature_cols]\n",
    "X.shape\n",
    "\n",
    "#print (type(X))\n",
    "# X.head()"
   ]
  },
  {
   "cell_type": "code",
   "execution_count": 13,
   "metadata": {},
   "outputs": [
    {
     "data": {
      "text/plain": [
       "(610,)"
      ]
     },
     "execution_count": 13,
     "metadata": {},
     "output_type": "execute_result"
    }
   ],
   "source": [
    "# create a response vector series 'y' \n",
    "y = df.WRITE_OFF_IND\n",
    "y.shape\n",
    "#y.dtypes"
   ]
  },
  {
   "cell_type": "code",
   "execution_count": 29,
   "metadata": {
    "collapsed": true
   },
   "outputs": [],
   "source": [
    "# if you need to upgrade scikit learn\n",
    "#!pip install --upgrade scikit-learn"
   ]
  },
  {
   "cell_type": "code",
   "execution_count": 14,
   "metadata": {
    "collapsed": true
   },
   "outputs": [],
   "source": [
    "# splitting in-sample training and test datasets\n",
    "\n",
    "from sklearn.model_selection import train_test_split\n",
    "X_train, X_test, y_train, y_test = train_test_split(X, y, test_size=0.3, random_state=1)"
   ]
  },
  {
   "cell_type": "code",
   "execution_count": 15,
   "metadata": {},
   "outputs": [
    {
     "name": "stdout",
     "output_type": "stream",
     "text": [
      "(427, 8)\n",
      "(427,)\n",
      "(183, 8)\n",
      "(183,)\n"
     ]
    }
   ],
   "source": [
    "# default split is 75% for training and 25% for testing; but chose above test size (test_size)\n",
    "print(X_train.shape)\n",
    "print(y_train.shape)\n",
    "print(X_test.shape)\n",
    "print(y_test.shape)"
   ]
  },
  {
   "cell_type": "code",
   "execution_count": 16,
   "metadata": {},
   "outputs": [
    {
     "data": {
      "text/plain": [
       "LogisticRegression(C=1.0, class_weight=None, dual=False, fit_intercept=True,\n",
       "          intercept_scaling=1, max_iter=100, multi_class='ovr', n_jobs=1,\n",
       "          penalty='l2', random_state=None, solver='liblinear', tol=0.0001,\n",
       "          verbose=0, warm_start=False)"
      ]
     },
     "execution_count": 16,
     "metadata": {},
     "output_type": "execute_result"
    }
   ],
   "source": [
    "# import and instantiate a logistic regression model\n",
    "from sklearn.linear_model import LogisticRegression\n",
    "logreg = LogisticRegression()\n",
    "\n",
    "# train the model\n",
    "logreg.fit(X_train, y_train)"
   ]
  },
  {
   "cell_type": "code",
   "execution_count": 17,
   "metadata": {},
   "outputs": [
    {
     "data": {
      "text/plain": [
       "array([0, 0, 0, 0, 0, 0, 0, 0, 0, 0, 0, 0, 0, 0, 0, 0, 0, 0, 0, 0, 0, 0, 0,\n",
       "       0, 0, 0, 0, 0, 0, 0, 0, 0, 0, 0, 0, 0, 0, 0, 0, 0, 0, 0, 0, 0, 0, 0,\n",
       "       0, 0, 0, 0, 0, 0, 0, 0, 0, 0, 0, 0, 0, 0, 0, 0, 0, 0, 0, 0, 0, 0, 0,\n",
       "       0, 0, 0, 0, 0, 0, 0, 0, 0, 0, 0, 0, 0, 0, 0, 0, 0, 0, 0, 0, 0, 0, 0,\n",
       "       0, 0, 0, 0, 0, 0, 0, 0, 0, 0, 0, 0, 0, 0, 0, 0, 0, 0, 0, 0, 0, 0, 0,\n",
       "       0, 0, 0, 0, 0, 0, 0, 0, 0, 0, 0, 0, 0, 0, 0, 0, 0, 0, 0, 0, 0, 0, 0,\n",
       "       0, 0, 0, 0, 0, 0, 0, 0, 0, 0, 0, 0, 0, 0, 0, 0, 0, 0, 0, 0, 0, 0, 0,\n",
       "       0, 0, 0, 0, 0, 0, 0, 0, 0, 0, 0, 0, 0, 0, 0, 0, 0, 0, 0, 0, 0, 0])"
      ]
     },
     "execution_count": 17,
     "metadata": {},
     "output_type": "execute_result"
    }
   ],
   "source": [
    "# make class predictions for X_test\n",
    "# as there are a large number of zero values, the predictions are also skewed into zeros as well\n",
    "\n",
    "y_pred_class = logreg.predict(X_test)\n",
    "y_pred_class"
   ]
  },
  {
   "cell_type": "code",
   "execution_count": 18,
   "metadata": {},
   "outputs": [
    {
     "data": {
      "text/plain": [
       "array([ 0.0934099 ,  0.04956315,  0.01678545,  0.06110013,  0.27325643,\n",
       "        0.07770864,  0.24397741,  0.1343003 ,  0.20399036,  0.01315277,\n",
       "        0.26386769,  0.31863156,  0.21723917,  0.11203494,  0.1221481 ,\n",
       "        0.01283024,  0.16212847,  0.21597457,  0.07852633,  0.03195917,\n",
       "        0.24450158,  0.26583027,  0.21118295,  0.21891135,  0.17318447,\n",
       "        0.01690514,  0.01285819,  0.30946728,  0.12909855,  0.2770037 ,\n",
       "        0.17128316,  0.19256704,  0.276739  ,  0.08132256,  0.14355291,\n",
       "        0.07846289,  0.05828882,  0.27418517,  0.3057365 ,  0.04422431,\n",
       "        0.16328845,  0.19719879,  0.21356105,  0.06820325,  0.25015397,\n",
       "        0.12277835,  0.20475214,  0.12173307,  0.15268907,  0.21395021,\n",
       "        0.00523248,  0.15953311,  0.14662286,  0.02757084,  0.03628059,\n",
       "        0.21398361,  0.00946932,  0.18631711,  0.28585663,  0.22227366,\n",
       "        0.24889873,  0.01994516,  0.23821044,  0.19919284,  0.04252697,\n",
       "        0.22257001,  0.00682256,  0.11125886,  0.17798398,  0.03057428,\n",
       "        0.02422745,  0.02581026,  0.07847214,  0.28500441,  0.20372153,\n",
       "        0.03233953,  0.08397687,  0.14180499,  0.04533231,  0.12212414,\n",
       "        0.05302388,  0.25540514,  0.05879454,  0.01904692,  0.05778133,\n",
       "        0.03209208,  0.21520247,  0.15625242,  0.33485855,  0.17002261,\n",
       "        0.05381389,  0.20422341,  0.24136344,  0.01413025,  0.01725602,\n",
       "        0.04748969,  0.07481013,  0.14552671,  0.39182613,  0.04779851,\n",
       "        0.19990877,  0.21603447,  0.03530023,  0.15179584,  0.2469    ,\n",
       "        0.05002643,  0.04248353,  0.14851773,  0.04699823,  0.03733111,\n",
       "        0.3114496 ,  0.03339275,  0.01978508,  0.16115117,  0.38450806,\n",
       "        0.04818341,  0.01750569,  0.1014279 ,  0.02588005,  0.0936567 ,\n",
       "        0.21772182,  0.01312312,  0.01165325,  0.14145445,  0.16538087,\n",
       "        0.09947347,  0.29432639,  0.01131256,  0.03716497,  0.12377606,\n",
       "        0.0587314 ,  0.11937883,  0.28042578,  0.34288328,  0.30825736,\n",
       "        0.39810133,  0.01970656,  0.01043653,  0.22788665,  0.15149012,\n",
       "        0.21854856,  0.07129135,  0.15114778,  0.0101789 ,  0.06256303,\n",
       "        0.2373387 ,  0.26893193,  0.32939986,  0.30517849,  0.19875238,\n",
       "        0.03559745,  0.25302099,  0.0508409 ,  0.02158013,  0.15569175,\n",
       "        0.03398354,  0.12397642,  0.01757855,  0.17203239,  0.2726686 ,\n",
       "        0.17807293,  0.20268704,  0.05923077,  0.23382821,  0.18832986,\n",
       "        0.15377186,  0.04167434,  0.03173161,  0.24922025,  0.09047955,\n",
       "        0.14006053,  0.25542984,  0.01298755,  0.1271759 ,  0.13328857,\n",
       "        0.07382306,  0.04062573,  0.04086028,  0.15508196,  0.05418308,\n",
       "        0.04057309,  0.11302065,  0.24701322])"
      ]
     },
     "execution_count": 18,
     "metadata": {},
     "output_type": "execute_result"
    }
   ],
   "source": [
    "# calculate predicted probabilities for X_test (well calibrated)\n",
    "y_pred_prob = logreg.predict_proba(X_test)[:, 1]\n",
    "y_pred_prob"
   ]
  },
  {
   "cell_type": "code",
   "execution_count": 19,
   "metadata": {},
   "outputs": [
    {
     "name": "stdout",
     "output_type": "stream",
     "text": [
      "Accuracy score is: 0.83606557377\n"
     ]
    }
   ],
   "source": [
    "import sklearn.metrics as metrics\n",
    "\n",
    "# calculate accuracy\n",
    "print 'Accuracy score is: {}'.format(metrics.accuracy_score(y_test, y_pred_class))"
   ]
  },
  {
   "cell_type": "code",
   "execution_count": 20,
   "metadata": {},
   "outputs": [
    {
     "name": "stdout",
     "output_type": "stream",
     "text": [
      "AUC is: 0.704357298475\n"
     ]
    }
   ],
   "source": [
    "# calculate AUC\n",
    "print 'AUC is: {}'.format(metrics.roc_auc_score(y_test, y_pred_prob))"
   ]
  },
  {
   "cell_type": "markdown",
   "metadata": {},
   "source": [
    "#### ROC curve allows to see how sensitivity and specificity are affected by various thresholds, and AUC is the percentage of the ROC plot that is underneath the curve\n",
    "\n",
    "- AUC is useful as a single number summary of classifier performance.\n",
    "- If you randomly chose one positive and one negative observation, AUC represents the likelihood that your classifier will assign a higher predicted probability to the positive observation.\n",
    "- AUC is useful even when there is high class imbalance (unlike classification accuracy)."
   ]
  },
  {
   "cell_type": "code",
   "execution_count": 21,
   "metadata": {},
   "outputs": [
    {
     "data": {
      "text/plain": [
       "array([0, 0, 0, 0, 0, 0, 0, 0, 0, 0, 0, 0, 0, 0, 0, 0, 0, 0, 0, 0, 0, 0, 0,\n",
       "       0, 0, 0, 0, 0, 0, 0, 0, 0, 0, 0, 0, 0, 0, 0, 0, 0])"
      ]
     },
     "execution_count": 21,
     "metadata": {},
     "output_type": "execute_result"
    }
   ],
   "source": [
    "# make predictions on the sample testing set (observations 20 thru 60)\n",
    "y_pred = logreg.predict(X_test)\n",
    "y_pred[20:60]"
   ]
  },
  {
   "cell_type": "code",
   "execution_count": 22,
   "metadata": {},
   "outputs": [
    {
     "data": {
      "text/plain": [
       "(183,)"
      ]
     },
     "execution_count": 22,
     "metadata": {},
     "output_type": "execute_result"
    }
   ],
   "source": [
    "y_pred.shape"
   ]
  },
  {
   "cell_type": "markdown",
   "metadata": {},
   "source": [
    "## Re-setting the threshold (changing the sensitivity)"
   ]
  },
  {
   "cell_type": "code",
   "execution_count": 23,
   "metadata": {},
   "outputs": [
    {
     "data": {
      "text/plain": [
       "array([ 0.,  0.,  0.,  0.,  1.,  0.,  1.,  0.,  1.,  0.,  1.,  1.,  1.,\n",
       "        0.,  0.,  0.,  0.,  1.,  0.,  0.,  1.,  1.,  1.,  1.,  0.,  0.,\n",
       "        0.,  1.,  0.,  1.,  0.,  0.,  1.,  0.,  0.,  0.,  0.,  1.,  1.,\n",
       "        0.,  0.,  0.,  1.,  0.,  1.,  0.,  1.,  0.,  0.,  1.,  0.,  0.,\n",
       "        0.,  0.,  0.,  1.,  0.,  0.,  1.,  1.,  1.,  0.,  1.,  0.,  0.,\n",
       "        1.,  0.,  0.,  0.,  0.,  0.,  0.,  0.,  1.,  1.,  0.,  0.,  0.,\n",
       "        0.,  0.,  0.,  1.,  0.,  0.,  0.,  0.,  1.,  0.,  1.,  0.,  0.,\n",
       "        1.,  1.,  0.,  0.,  0.,  0.,  0.,  1.,  0.,  0.,  1.,  0.,  0.,\n",
       "        1.,  0.,  0.,  0.,  0.,  0.,  1.,  0.,  0.,  0.,  1.,  0.,  0.,\n",
       "        0.,  0.,  0.,  1.,  0.,  0.,  0.,  0.,  0.,  1.,  0.,  0.,  0.,\n",
       "        0.,  0.,  1.,  1.,  1.,  1.,  0.,  0.,  1.,  0.,  1.,  0.,  0.,\n",
       "        0.,  0.,  1.,  1.,  1.,  1.,  0.,  0.,  1.,  0.,  0.,  0.,  0.,\n",
       "        0.,  0.,  0.,  1.,  0.,  1.,  0.,  1.,  0.,  0.,  0.,  0.,  1.,\n",
       "        0.,  0.,  1.,  0.,  0.,  0.,  0.,  0.,  0.,  0.,  0.,  0.,  0.,  1.])"
      ]
     },
     "execution_count": 23,
     "metadata": {},
     "output_type": "execute_result"
    }
   ],
   "source": [
    "# if you like to re-set the threshold; or changes the sensitivity for the target value\n",
    "# in other words, we are setting 0.20 (or 20% probability of written-offs) as a threshold \n",
    "\n",
    "# round or classify numpy array of y_pred_prob with a specific threshold\n",
    "\n",
    "from sklearn.preprocessing import binarize\n",
    "y_pred_newcl = binarize([y_pred_prob], 0.20)[0]\n",
    "y_pred_newcl"
   ]
  },
  {
   "cell_type": "code",
   "execution_count": 24,
   "metadata": {},
   "outputs": [
    {
     "name": "stdout",
     "output_type": "stream",
     "text": [
      "Accuracy score is: 0.666666666667\n"
     ]
    }
   ],
   "source": [
    "# calculate the new accuracy\n",
    "# the lower accuracy gets compensated with the increased sensitivity \n",
    "\n",
    "print 'Accuracy score is: {}'.format(metrics.accuracy_score(y_test, y_pred_newcl))"
   ]
  },
  {
   "cell_type": "markdown",
   "metadata": {},
   "source": [
    "## SUMMARY\n",
    "This illustrative python notebook shows how to get started with a simple machine learning utilizing linear regression modelling technique.  I hope you to see how easy to adopt IBM's Data Science Experience for your data analytics and modeling needs.  Please find overview and getting-started information in the Data Science Experience documentation: https://datascience.ibm.com/docs/content/getting-started/welcome-main.html. \n",
    "Learn about Jupyter notebooks, which are used throughout this scenario, in the Data Science Experience documentation: https://datascience.ibm.com/docs/content/analyze-data/notebooks-parent.html"
   ]
  }
 ],
 "metadata": {
  "kernelspec": {
   "display_name": "Python 2 with Spark 2.0",
   "language": "python",
   "name": "python2-spark20"
  },
  "language_info": {
   "codemirror_mode": {
    "name": "ipython",
    "version": 2
   },
   "file_extension": ".py",
   "mimetype": "text/x-python",
   "name": "python",
   "nbconvert_exporter": "python",
   "pygments_lexer": "ipython2",
   "version": "2.7.11"
  }
 },
 "nbformat": 4,
 "nbformat_minor": 1
}
